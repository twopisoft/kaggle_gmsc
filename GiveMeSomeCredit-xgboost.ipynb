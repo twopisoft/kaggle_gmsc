{
 "cells": [
  {
   "cell_type": "code",
   "execution_count": 51,
   "metadata": {
    "collapsed": true
   },
   "outputs": [],
   "source": [
    "import pandas as pd\n",
    "import numpy as np\n",
    "from sklearn.cross_validation import train_test_split\n",
    "from sklearn import metrics\n",
    "import xgboost as xgb\n",
    "import math\n",
    "import os\n",
    "\n",
    "%matplotlib inline"
   ]
  },
  {
   "cell_type": "markdown",
   "metadata": {},
   "source": [
    "** Following function runs various transformations on the data **"
   ]
  },
  {
   "cell_type": "code",
   "execution_count": 52,
   "metadata": {
    "collapsed": true
   },
   "outputs": [],
   "source": [
    "def transform(df):\n",
    "    # Rename some of the columns that have dashes in the name as they can be \n",
    "    #taken as minus by python\n",
    "    df = df.rename(columns={'NumberOfTime30-59DaysPastDueNotWorse':\\\n",
    "                                'NumberOfTime30_59DaysPastDueNotWorse', \n",
    "                            'NumberOfTime60-89DaysPastDueNotWorse':\\\n",
    "                                'NumberOfTime60_89DaysPastDueNotWorse'})\n",
    "    \n",
    "    # Handle NAs. There are two features with NAs. MonthlyIncome and NumberOfDependents. \n",
    "    # We replace them with 0 (mean and median could be other choices, but\n",
    "    # with 0 we get a good AUC value)\n",
    "    df = df.fillna(value={'MonthlyIncome': 0, \n",
    "                          'NumberOfDependents': 0 })\n",
    "    \n",
    "    # Some of the features have large skewness. We use log transform to normalize the values. \n",
    "    # The log1p function is useful as it handles 0 values.\n",
    "    df['MonthlyIncome'] = df.MonthlyIncome.apply(math.log1p)\n",
    "    df['DebtRatio'] = df.DebtRatio.apply(math.log1p)\n",
    "    df['RevolvingUtilizationOfUnsecuredLines'] = \\\n",
    "                            df.RevolvingUtilizationOfUnsecuredLines.apply(math.log1p)\n",
    "    \n",
    "    # Replace the NumberOfTimes90DaysLate, NumberOfTime60_89DaysPastDueNotWorse, \n",
    "    # and NumberOfTime30_59DaysPastDueNotWorse with a linear combination of the values. \n",
    "    # The coefficients are arbitrarily chosen but obtained after some trial and error.\n",
    "    df['NumberOfTimesDaysLate'] = 101*df['NumberOfTimes90DaysLate'] + \\\n",
    "                                   51*df['NumberOfTime60_89DaysPastDueNotWorse'] + \\\n",
    "                                   23*df['NumberOfTime30_59DaysPastDueNotWorse']\n",
    "            \n",
    "    # Now drop these columns\n",
    "    df = df.drop(['NumberOfTimes90DaysLate',\n",
    "                  'NumberOfTime60_89DaysPastDueNotWorse',\n",
    "                  'NumberOfTime30_59DaysPastDueNotWorse'], axis=1)\n",
    "    \n",
    "    return df"
   ]
  },
  {
   "cell_type": "markdown",
   "metadata": {},
   "source": [
    "** Run Grid search to find optimal parameters **\n",
    "\n",
    "Here we have done search for lambda (L2 reg), alpha (L1 reg), and gamma."
   ]
  },
  {
   "cell_type": "code",
   "execution_count": 53,
   "metadata": {
    "collapsed": true
   },
   "outputs": [],
   "source": [
    "from sklearn.grid_search import GridSearchCV\n",
    "\n",
    "def grid_search(x_train, y_train):\n",
    "    cv_params = {'reg_lambda': [0,0.5,1.0], \n",
    "                 'reg_alpha': [0,0.5,1.0], 'gamma': [0,0.5,1.0]}\n",
    "    ind_params = {'learning_rate': 0.1, 'n_estimators': 1000, 'max_depth': 3, 'min_child_weight': 1,\n",
    "                  'seed':42, 'subsample': 0.8, 'colsample_bytree': 0.8, \n",
    "                  'objective': 'binary:logistic'}\n",
    "    gbm_opt = GridSearchCV(xgb.XGBClassifier(**ind_params), cv_params, scoring='roc_auc', cv=5, n_jobs=-1)\n",
    "    \n",
    "    gbm_opt.fit(x_train,y_train)\n",
    "    \n",
    "    return gbm_opt"
   ]
  },
  {
   "cell_type": "markdown",
   "metadata": {},
   "source": [
    "** Load and transform train/test data **"
   ]
  },
  {
   "cell_type": "code",
   "execution_count": 54,
   "metadata": {
    "collapsed": true
   },
   "outputs": [],
   "source": [
    "TRAIN_DATA_FILE = os.path.join('data','cs-training.csv')\n",
    "TEST_DATA_FILE  = os.path.join('data','cs-test.csv')"
   ]
  },
  {
   "cell_type": "code",
   "execution_count": 55,
   "metadata": {
    "collapsed": false
   },
   "outputs": [],
   "source": [
    "train_df = pd.read_csv(TRAIN_DATA_FILE, index_col=0)\n",
    "test_df = pd.read_csv(TEST_DATA_FILE,index_col=0)"
   ]
  },
  {
   "cell_type": "markdown",
   "metadata": {},
   "source": [
    "** Removing duplicates is the recommended practice but it generates inferior results in our case **"
   ]
  },
  {
   "cell_type": "code",
   "execution_count": 56,
   "metadata": {
    "collapsed": false
   },
   "outputs": [],
   "source": [
    "#train_df = train_df.drop_duplicates(keep=False)"
   ]
  },
  {
   "cell_type": "markdown",
   "metadata": {},
   "source": [
    "** Find correlation on raw data. ** \n",
    "\n",
    "Positive correlation is shown by:\n",
    "* NumberOfTime30-59DaysPastDueNotWorse\n",
    "* NumberOfTime60-89DaysPastDueNotWorse\n",
    "* NumberOfTimes90DaysLate\n",
    "\n",
    "Negative correlation is shown by:\n",
    "* age (younger, more chance of delinquency)\n"
   ]
  },
  {
   "cell_type": "code",
   "execution_count": 57,
   "metadata": {
    "collapsed": true
   },
   "outputs": [],
   "source": [
    "corr_df = train_df.corr()"
   ]
  },
  {
   "cell_type": "code",
   "execution_count": 58,
   "metadata": {
    "collapsed": false
   },
   "outputs": [
    {
     "data": {
      "text/plain": [
       "SeriousDlqin2yrs                        1.000000\n",
       "RevolvingUtilizationOfUnsecuredLines   -0.001802\n",
       "age                                    -0.115386\n",
       "NumberOfTime30-59DaysPastDueNotWorse    0.125587\n",
       "DebtRatio                              -0.007602\n",
       "MonthlyIncome                          -0.019746\n",
       "NumberOfOpenCreditLinesAndLoans        -0.029669\n",
       "NumberOfTimes90DaysLate                 0.117175\n",
       "NumberRealEstateLoansOrLines           -0.007038\n",
       "NumberOfTime60-89DaysPastDueNotWorse    0.102261\n",
       "NumberOfDependents                      0.046048\n",
       "Name: SeriousDlqin2yrs, dtype: float64"
      ]
     },
     "execution_count": 58,
     "metadata": {},
     "output_type": "execute_result"
    }
   ],
   "source": [
    "corr_df.SeriousDlqin2yrs"
   ]
  },
  {
   "cell_type": "code",
   "execution_count": 59,
   "metadata": {
    "collapsed": true
   },
   "outputs": [],
   "source": [
    "train_df = transform(train_df)\n",
    "test_df = transform(test_df)"
   ]
  },
  {
   "cell_type": "markdown",
   "metadata": {},
   "source": [
    "** Remove any training data with age == 0 **"
   ]
  },
  {
   "cell_type": "code",
   "execution_count": 60,
   "metadata": {
    "collapsed": true
   },
   "outputs": [],
   "source": [
    "train_df = train_df[train_df.age > 0]"
   ]
  },
  {
   "cell_type": "markdown",
   "metadata": {},
   "source": [
    "** Drop the SeriousDlqin2yrs from train and test data. Also set the data frames for features and ground truth **"
   ]
  },
  {
   "cell_type": "code",
   "execution_count": 61,
   "metadata": {
    "collapsed": false
   },
   "outputs": [],
   "source": [
    "y_train_df = train_df.SeriousDlqin2yrs\n",
    "X_train_df = train_df.drop('SeriousDlqin2yrs', axis=1)\n",
    "\n",
    "test_df = test_df.drop('SeriousDlqin2yrs', axis=1)"
   ]
  },
  {
   "cell_type": "markdown",
   "metadata": {},
   "source": [
    "** The histogram for SeriousDlqin2yrs clearly shows large disparity between the binary truth classes. This\n",
    "is a sign to make use of AUC metric as AUC is more robust in such cases **"
   ]
  },
  {
   "cell_type": "code",
   "execution_count": 62,
   "metadata": {
    "collapsed": false
   },
   "outputs": [
    {
     "data": {
      "text/plain": [
       "array([[<matplotlib.axes._subplots.AxesSubplot object at 0x111dfa080>]], dtype=object)"
      ]
     },
     "execution_count": 62,
     "metadata": {},
     "output_type": "execute_result"
    },
    {
     "data": {
      "image/png": "[encoded data removed]",
      "text/plain": [
       "<matplotlib.figure.Figure at 0x10eab1780>"
      ]
     },
     "metadata": {},
     "output_type": "display_data"
    }
   ],
   "source": [
    "train_df.hist(column=['SeriousDlqin2yrs'])"
   ]
  },
  {
   "cell_type": "code",
   "execution_count": 63,
   "metadata": {
    "collapsed": true
   },
   "outputs": [],
   "source": [
    "random_state=42"
   ]
  },
  {
   "cell_type": "markdown",
   "metadata": {},
   "source": [
    "** Do a 80-20 train/test split **"
   ]
  },
  {
   "cell_type": "code",
   "execution_count": 64,
   "metadata": {
    "collapsed": true
   },
   "outputs": [],
   "source": [
    "x_train, x_val, y_train, y_val = train_test_split(X_train_df, y_train_df, \n",
    "                                                    test_size=0.2, \n",
    "                                                    random_state=random_state, \n",
    "                                                    stratify=y_train_df)"
   ]
  },
  {
   "cell_type": "markdown",
   "metadata": {},
   "source": [
    "** Following step takes a long time to run. The best values for alpha, lambda, and gamma are shown **"
   ]
  },
  {
   "cell_type": "code",
   "execution_count": 65,
   "metadata": {
    "collapsed": false
   },
   "outputs": [],
   "source": [
    "# Remove comments to run grid search\n",
    "# gbm_opt = grid_search(x_train,y_train)\n",
    "\n",
    "# gbm_opt.best_params_\n",
    "# {'gamma': 0, 'reg_alpha': 1.0, 'reg_lambda': 1.0}"
   ]
  },
  {
   "cell_type": "markdown",
   "metadata": {},
   "source": [
    "** Convert pandas frames to XGBoost matrix for efficiency **"
   ]
  },
  {
   "cell_type": "code",
   "execution_count": 66,
   "metadata": {
    "collapsed": false
   },
   "outputs": [],
   "source": [
    "train_mat = xgb.DMatrix(x_train, y_train)"
   ]
  },
  {
   "cell_type": "markdown",
   "metadata": {},
   "source": [
    "** Params for the XGBoost classifier. Some of these params are determined using a grid search (not shown here) **"
   ]
  },
  {
   "cell_type": "code",
   "execution_count": 67,
   "metadata": {
    "collapsed": false
   },
   "outputs": [],
   "source": [
    "params = {'eta':0.1, 'seed':random_state, 'subsample':0.8,\n",
    "          'colsample_bytree':0.8, 'objective': 'binary:logistic', \n",
    "          'max_depth':3, 'min_child_weight':1, 'gamma':0, 'alpha':1, 'lambda':1}"
   ]
  },
  {
   "cell_type": "markdown",
   "metadata": {},
   "source": [
    "** Run XGBoost cross validation with 5 stratified folds **"
   ]
  },
  {
   "cell_type": "code",
   "execution_count": 68,
   "metadata": {
    "collapsed": false
   },
   "outputs": [],
   "source": [
    "gbm_cv = xgb.cv(params=params, dtrain=train_mat, stratified=True,\n",
    "                num_boost_round=3000, nfold=5, \n",
    "                metrics=['auc'], early_stopping_rounds=100)"
   ]
  },
  {
   "cell_type": "markdown",
   "metadata": {},
   "source": [
    "** Check the max number of boost rounds. We later round up to nearest hundred **"
   ]
  },
  {
   "cell_type": "code",
   "execution_count": 69,
   "metadata": {
    "collapsed": false
   },
   "outputs": [
    {
     "data": {
      "text/html": [
       "<div>\n",
       "<table border=\"1\" class=\"dataframe\">\n",
       "  <thead>\n",
       "    <tr style=\"text-align: right;\">\n",
       "      <th></th>\n",
       "      <th>test-auc-mean</th>\n",
       "      <th>test-auc-std</th>\n",
       "      <th>train-auc-mean</th>\n",
       "      <th>train-auc-std</th>\n",
       "    </tr>\n",
       "  </thead>\n",
       "  <tbody>\n",
       "    <tr>\n",
       "      <th>229</th>\n",
       "      <td>0.865216</td>\n",
       "      <td>0.003026</td>\n",
       "      <td>0.876690</td>\n",
       "      <td>0.000654</td>\n",
       "    </tr>\n",
       "    <tr>\n",
       "      <th>230</th>\n",
       "      <td>0.865215</td>\n",
       "      <td>0.003015</td>\n",
       "      <td>0.876716</td>\n",
       "      <td>0.000646</td>\n",
       "    </tr>\n",
       "    <tr>\n",
       "      <th>231</th>\n",
       "      <td>0.865202</td>\n",
       "      <td>0.003005</td>\n",
       "      <td>0.876773</td>\n",
       "      <td>0.000665</td>\n",
       "    </tr>\n",
       "    <tr>\n",
       "      <th>232</th>\n",
       "      <td>0.865211</td>\n",
       "      <td>0.003007</td>\n",
       "      <td>0.876816</td>\n",
       "      <td>0.000671</td>\n",
       "    </tr>\n",
       "    <tr>\n",
       "      <th>233</th>\n",
       "      <td>0.865248</td>\n",
       "      <td>0.003006</td>\n",
       "      <td>0.876857</td>\n",
       "      <td>0.000662</td>\n",
       "    </tr>\n",
       "  </tbody>\n",
       "</table>\n",
       "</div>"
      ],
      "text/plain": [
       "     test-auc-mean  test-auc-std  train-auc-mean  train-auc-std\n",
       "229       0.865216      0.003026        0.876690       0.000654\n",
       "230       0.865215      0.003015        0.876716       0.000646\n",
       "231       0.865202      0.003005        0.876773       0.000665\n",
       "232       0.865211      0.003007        0.876816       0.000671\n",
       "233       0.865248      0.003006        0.876857       0.000662"
      ]
     },
     "execution_count": 69,
     "metadata": {},
     "output_type": "execute_result"
    }
   ],
   "source": [
    "gbm_cv.tail(5)"
   ]
  },
  {
   "cell_type": "markdown",
   "metadata": {},
   "source": [
    "** Do the training **"
   ]
  },
  {
   "cell_type": "code",
   "execution_count": 70,
   "metadata": {
    "collapsed": false
   },
   "outputs": [],
   "source": [
    "final_gbm = xgb.train(params, train_mat, num_boost_round=300) "
   ]
  },
  {
   "cell_type": "markdown",
   "metadata": {},
   "source": [
    "** Plot feature importance. RevolvingUtilizationOfUnsecuredLines, DebtRatio, and our constructed feature\n",
    "NumberOfTimesDaysLate are among the top most important features **"
   ]
  },
  {
   "cell_type": "code",
   "execution_count": 71,
   "metadata": {
    "collapsed": false
   },
   "outputs": [
    {
     "data": {
      "text/plain": [
       "<matplotlib.axes._subplots.AxesSubplot at 0x10ea96be0>"
      ]
     },
     "execution_count": 71,
     "metadata": {},
     "output_type": "execute_result"
    },
    {
     "data": {
      "image/png": "[encoded data removed]",
      "text/plain": [
       "<matplotlib.figure.Figure at 0x10f425c50>"
      ]
     },
     "metadata": {},
     "output_type": "display_data"
    }
   ],
   "source": [
    "xgb.plot_importance(final_gbm)"
   ]
  },
  {
   "cell_type": "markdown",
   "metadata": {},
   "source": [
    "** The following cells tests the model on hold-out data. We get an AUC score of 0.8698 which is well above\n",
    "Kaggle benchmark **"
   ]
  },
  {
   "cell_type": "code",
   "execution_count": 72,
   "metadata": {
    "collapsed": false
   },
   "outputs": [],
   "source": [
    "val_mat = xgb.DMatrix(x_val)"
   ]
  },
  {
   "cell_type": "code",
   "execution_count": 73,
   "metadata": {
    "collapsed": false
   },
   "outputs": [],
   "source": [
    "y_preds = final_gbm.predict(val_mat)"
   ]
  },
  {
   "cell_type": "code",
   "execution_count": 74,
   "metadata": {
    "collapsed": false
   },
   "outputs": [
    {
     "data": {
      "text/plain": [
       "0.86984841878158681"
      ]
     },
     "execution_count": 74,
     "metadata": {},
     "output_type": "execute_result"
    }
   ],
   "source": [
    "metrics.roc_auc_score(y_val,y_preds)\n",
    "\n",
    "#0.86984841878158681"
   ]
  },
  {
   "cell_type": "markdown",
   "metadata": {},
   "source": [
    "** Run the model on the test data and generate submission file **"
   ]
  },
  {
   "cell_type": "code",
   "execution_count": 75,
   "metadata": {
    "collapsed": true
   },
   "outputs": [],
   "source": [
    "test_mat = xgb.DMatrix(test_df)"
   ]
  },
  {
   "cell_type": "code",
   "execution_count": 76,
   "metadata": {
    "collapsed": false
   },
   "outputs": [],
   "source": [
    "final_preds = final_gbm.predict(test_mat)"
   ]
  },
  {
   "cell_type": "code",
   "execution_count": 77,
   "metadata": {
    "collapsed": false
   },
   "outputs": [
    {
     "data": {
      "text/plain": [
       "array([ 0.06121672,  0.0545834 ,  0.01288589, ...,  0.00436946,\n",
       "        0.08630439,  0.0458273 ], dtype=float32)"
      ]
     },
     "execution_count": 77,
     "metadata": {},
     "output_type": "execute_result"
    }
   ],
   "source": [
    "final_preds"
   ]
  },
  {
   "cell_type": "code",
   "execution_count": 78,
   "metadata": {
    "collapsed": false
   },
   "outputs": [],
   "source": [
    "submit_df = pd.DataFrame(data={'Id':np.arange(1,len(final_preds)+1),'Probability':final_preds})"
   ]
  },
  {
   "cell_type": "code",
   "execution_count": 79,
   "metadata": {
    "collapsed": false
   },
   "outputs": [],
   "source": [
    "SUBMIT_FILE = os.path.join('data','submission.csv')"
   ]
  },
  {
   "cell_type": "code",
   "execution_count": 80,
   "metadata": {
    "collapsed": true
   },
   "outputs": [],
   "source": [
    "submit_df.to_csv(SUBMIT_FILE, index=False)"
   ]
  },
  {
   "cell_type": "markdown",
   "metadata": {},
   "source": [
    "Private Leader Board Score: \n",
    "\n",
    "![Private LB score](./images/PrivateLB.png)"
   ]
  }
 ],
 "metadata": {
  "anaconda-cloud": {},
  "kernelspec": {
   "display_name": "Python [conda env:honestbee]",
   "language": "python",
   "name": "conda-env-honestbee-py"
  },
  "language_info": {
   "codemirror_mode": {
    "name": "ipython",
    "version": 3
   },
   "file_extension": ".py",
   "mimetype": "text/x-python",
   "name": "python",
   "nbconvert_exporter": "python",
   "pygments_lexer": "ipython3",
   "version": "3.5.2"
  }
 },
 "nbformat": 4,
 "nbformat_minor": 1
}
